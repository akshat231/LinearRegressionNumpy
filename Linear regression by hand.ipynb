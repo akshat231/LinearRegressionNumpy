{
    "cells": [
        {
            "cell_type": "code",
            "execution_count": 1,
            "source": [
                "import numpy as np  \r\n",
                "import pandas as pd \r\n",
                "#importing modules....to see the graphical manner see the earlier .ipynb file"
            ],
            "outputs": [],
            "metadata": {}
        },
        {
            "cell_type": "code",
            "execution_count": 2,
            "source": [
                "df=pd.read_csv('USA_Housing.csv')\r\n",
                "#reading data"
            ],
            "outputs": [],
            "metadata": {}
        },
        {
            "cell_type": "code",
            "execution_count": 3,
            "source": [
                "df.head()"
            ],
            "outputs": [
                {
                    "output_type": "execute_result",
                    "data": {
                        "text/plain": [
                            "   Avg. Area Income  Avg. Area House Age  Avg. Area Number of Rooms  \\\n",
                            "0      79545.458574             5.682861                   7.009188   \n",
                            "1      79248.642455             6.002900                   6.730821   \n",
                            "2      61287.067179             5.865890                   8.512727   \n",
                            "3      63345.240046             7.188236                   5.586729   \n",
                            "4      59982.197226             5.040555                   7.839388   \n",
                            "\n",
                            "   Avg. Area Number of Bedrooms  Area Population         Price  \\\n",
                            "0                          4.09     23086.800503  1.059034e+06   \n",
                            "1                          3.09     40173.072174  1.505891e+06   \n",
                            "2                          5.13     36882.159400  1.058988e+06   \n",
                            "3                          3.26     34310.242831  1.260617e+06   \n",
                            "4                          4.23     26354.109472  6.309435e+05   \n",
                            "\n",
                            "                                             Address  \n",
                            "0  208 Michael Ferry Apt. 674\\nLaurabury, NE 3701...  \n",
                            "1  188 Johnson Views Suite 079\\nLake Kathleen, CA...  \n",
                            "2  9127 Elizabeth Stravenue\\nDanieltown, WI 06482...  \n",
                            "3                          USS Barnett\\nFPO AP 44820  \n",
                            "4                         USNS Raymond\\nFPO AE 09386  "
                        ],
                        "text/html": [
                            "<div>\n",
                            "<style scoped>\n",
                            "    .dataframe tbody tr th:only-of-type {\n",
                            "        vertical-align: middle;\n",
                            "    }\n",
                            "\n",
                            "    .dataframe tbody tr th {\n",
                            "        vertical-align: top;\n",
                            "    }\n",
                            "\n",
                            "    .dataframe thead th {\n",
                            "        text-align: right;\n",
                            "    }\n",
                            "</style>\n",
                            "<table border=\"1\" class=\"dataframe\">\n",
                            "  <thead>\n",
                            "    <tr style=\"text-align: right;\">\n",
                            "      <th></th>\n",
                            "      <th>Avg. Area Income</th>\n",
                            "      <th>Avg. Area House Age</th>\n",
                            "      <th>Avg. Area Number of Rooms</th>\n",
                            "      <th>Avg. Area Number of Bedrooms</th>\n",
                            "      <th>Area Population</th>\n",
                            "      <th>Price</th>\n",
                            "      <th>Address</th>\n",
                            "    </tr>\n",
                            "  </thead>\n",
                            "  <tbody>\n",
                            "    <tr>\n",
                            "      <th>0</th>\n",
                            "      <td>79545.458574</td>\n",
                            "      <td>5.682861</td>\n",
                            "      <td>7.009188</td>\n",
                            "      <td>4.09</td>\n",
                            "      <td>23086.800503</td>\n",
                            "      <td>1.059034e+06</td>\n",
                            "      <td>208 Michael Ferry Apt. 674\\nLaurabury, NE 3701...</td>\n",
                            "    </tr>\n",
                            "    <tr>\n",
                            "      <th>1</th>\n",
                            "      <td>79248.642455</td>\n",
                            "      <td>6.002900</td>\n",
                            "      <td>6.730821</td>\n",
                            "      <td>3.09</td>\n",
                            "      <td>40173.072174</td>\n",
                            "      <td>1.505891e+06</td>\n",
                            "      <td>188 Johnson Views Suite 079\\nLake Kathleen, CA...</td>\n",
                            "    </tr>\n",
                            "    <tr>\n",
                            "      <th>2</th>\n",
                            "      <td>61287.067179</td>\n",
                            "      <td>5.865890</td>\n",
                            "      <td>8.512727</td>\n",
                            "      <td>5.13</td>\n",
                            "      <td>36882.159400</td>\n",
                            "      <td>1.058988e+06</td>\n",
                            "      <td>9127 Elizabeth Stravenue\\nDanieltown, WI 06482...</td>\n",
                            "    </tr>\n",
                            "    <tr>\n",
                            "      <th>3</th>\n",
                            "      <td>63345.240046</td>\n",
                            "      <td>7.188236</td>\n",
                            "      <td>5.586729</td>\n",
                            "      <td>3.26</td>\n",
                            "      <td>34310.242831</td>\n",
                            "      <td>1.260617e+06</td>\n",
                            "      <td>USS Barnett\\nFPO AP 44820</td>\n",
                            "    </tr>\n",
                            "    <tr>\n",
                            "      <th>4</th>\n",
                            "      <td>59982.197226</td>\n",
                            "      <td>5.040555</td>\n",
                            "      <td>7.839388</td>\n",
                            "      <td>4.23</td>\n",
                            "      <td>26354.109472</td>\n",
                            "      <td>6.309435e+05</td>\n",
                            "      <td>USNS Raymond\\nFPO AE 09386</td>\n",
                            "    </tr>\n",
                            "  </tbody>\n",
                            "</table>\n",
                            "</div>"
                        ]
                    },
                    "metadata": {},
                    "execution_count": 3
                }
            ],
            "metadata": {}
        },
        {
            "cell_type": "code",
            "execution_count": 4,
            "source": [
                "df=df.drop('Address',axis=1)\r\n",
                "#dropping name as we do not require it"
            ],
            "outputs": [],
            "metadata": {}
        },
        {
            "cell_type": "code",
            "execution_count": 5,
            "source": [
                "df.head()\r\n",
                "#head of data"
            ],
            "outputs": [
                {
                    "output_type": "execute_result",
                    "data": {
                        "text/plain": [
                            "   Avg. Area Income  Avg. Area House Age  Avg. Area Number of Rooms  \\\n",
                            "0      79545.458574             5.682861                   7.009188   \n",
                            "1      79248.642455             6.002900                   6.730821   \n",
                            "2      61287.067179             5.865890                   8.512727   \n",
                            "3      63345.240046             7.188236                   5.586729   \n",
                            "4      59982.197226             5.040555                   7.839388   \n",
                            "\n",
                            "   Avg. Area Number of Bedrooms  Area Population         Price  \n",
                            "0                          4.09     23086.800503  1.059034e+06  \n",
                            "1                          3.09     40173.072174  1.505891e+06  \n",
                            "2                          5.13     36882.159400  1.058988e+06  \n",
                            "3                          3.26     34310.242831  1.260617e+06  \n",
                            "4                          4.23     26354.109472  6.309435e+05  "
                        ],
                        "text/html": [
                            "<div>\n",
                            "<style scoped>\n",
                            "    .dataframe tbody tr th:only-of-type {\n",
                            "        vertical-align: middle;\n",
                            "    }\n",
                            "\n",
                            "    .dataframe tbody tr th {\n",
                            "        vertical-align: top;\n",
                            "    }\n",
                            "\n",
                            "    .dataframe thead th {\n",
                            "        text-align: right;\n",
                            "    }\n",
                            "</style>\n",
                            "<table border=\"1\" class=\"dataframe\">\n",
                            "  <thead>\n",
                            "    <tr style=\"text-align: right;\">\n",
                            "      <th></th>\n",
                            "      <th>Avg. Area Income</th>\n",
                            "      <th>Avg. Area House Age</th>\n",
                            "      <th>Avg. Area Number of Rooms</th>\n",
                            "      <th>Avg. Area Number of Bedrooms</th>\n",
                            "      <th>Area Population</th>\n",
                            "      <th>Price</th>\n",
                            "    </tr>\n",
                            "  </thead>\n",
                            "  <tbody>\n",
                            "    <tr>\n",
                            "      <th>0</th>\n",
                            "      <td>79545.458574</td>\n",
                            "      <td>5.682861</td>\n",
                            "      <td>7.009188</td>\n",
                            "      <td>4.09</td>\n",
                            "      <td>23086.800503</td>\n",
                            "      <td>1.059034e+06</td>\n",
                            "    </tr>\n",
                            "    <tr>\n",
                            "      <th>1</th>\n",
                            "      <td>79248.642455</td>\n",
                            "      <td>6.002900</td>\n",
                            "      <td>6.730821</td>\n",
                            "      <td>3.09</td>\n",
                            "      <td>40173.072174</td>\n",
                            "      <td>1.505891e+06</td>\n",
                            "    </tr>\n",
                            "    <tr>\n",
                            "      <th>2</th>\n",
                            "      <td>61287.067179</td>\n",
                            "      <td>5.865890</td>\n",
                            "      <td>8.512727</td>\n",
                            "      <td>5.13</td>\n",
                            "      <td>36882.159400</td>\n",
                            "      <td>1.058988e+06</td>\n",
                            "    </tr>\n",
                            "    <tr>\n",
                            "      <th>3</th>\n",
                            "      <td>63345.240046</td>\n",
                            "      <td>7.188236</td>\n",
                            "      <td>5.586729</td>\n",
                            "      <td>3.26</td>\n",
                            "      <td>34310.242831</td>\n",
                            "      <td>1.260617e+06</td>\n",
                            "    </tr>\n",
                            "    <tr>\n",
                            "      <th>4</th>\n",
                            "      <td>59982.197226</td>\n",
                            "      <td>5.040555</td>\n",
                            "      <td>7.839388</td>\n",
                            "      <td>4.23</td>\n",
                            "      <td>26354.109472</td>\n",
                            "      <td>6.309435e+05</td>\n",
                            "    </tr>\n",
                            "  </tbody>\n",
                            "</table>\n",
                            "</div>"
                        ]
                    },
                    "metadata": {},
                    "execution_count": 5
                }
            ],
            "metadata": {}
        },
        {
            "cell_type": "code",
            "execution_count": 6,
            "source": [
                "def scaler(x):\r\n",
                "    return ((x-x.mean(axis=0))/(x.max(axis=0)-x.min(axis=0)))\r\n",
                "    #scaling function"
            ],
            "outputs": [],
            "metadata": {}
        },
        {
            "cell_type": "code",
            "execution_count": 7,
            "source": [
                "train, validate, test = \\\r\n",
                "              np.split(df.sample(frac=1, random_state=42), \r\n",
                "                       [int(.7*len(df)), int(.8*len(df))])\r\n",
                "                       #splitting data into 3 parts: train, validate and test"
            ],
            "outputs": [],
            "metadata": {}
        },
        {
            "cell_type": "code",
            "execution_count": 8,
            "source": [
                "X_train=train.drop('Price',axis=1)\r\n",
                "X_validation=validate.drop('Price',axis=1)\r\n",
                "X_test=test.drop('Price',axis=1)\r\n",
                "y_train=train[['Price']]\r\n",
                "y_validation=validate[['Price']]\r\n",
                "y_test=test[['Price']]\r\n",
                "#dividing data"
            ],
            "outputs": [],
            "metadata": {}
        },
        {
            "cell_type": "code",
            "execution_count": 9,
            "source": [
                "X_train=scaler(X_train)\r\n",
                "X_validation=scaler(X_validation)\r\n",
                "X_test=scaler(X_test)\r\n",
                "#scaling features"
            ],
            "outputs": [],
            "metadata": {}
        },
        {
            "cell_type": "code",
            "execution_count": 10,
            "source": [
                "X_train.insert(0,'bias',value=1)\r\n",
                "X_validation.insert(0,'bias',value=1)\r\n",
                "X_test.insert(0,'bias',value=1)\r\n",
                "#inserting bias column"
            ],
            "outputs": [],
            "metadata": {}
        },
        {
            "cell_type": "code",
            "execution_count": 11,
            "source": [
                "X_validation"
            ],
            "outputs": [
                {
                    "output_type": "execute_result",
                    "data": {
                        "text/plain": [
                            "      bias  Avg. Area Income  Avg. Area House Age  Avg. Area Number of Rooms  \\\n",
                            "4431     1          0.035773            -0.025634                   0.313063   \n",
                            "2162     1         -0.075225            -0.213942                   0.086926   \n",
                            "2396     1         -0.062737             0.072070                   0.169223   \n",
                            "4768     1          0.039604            -0.171099                   0.039611   \n",
                            "2271     1         -0.031072             0.006331                   0.194389   \n",
                            "...    ...               ...                  ...                        ...   \n",
                            "3335     1          0.218538             0.031976                   0.170684   \n",
                            "1920     1          0.013421             0.016097                  -0.228818   \n",
                            "3715     1         -0.049487            -0.112496                   0.246488   \n",
                            "4646     1          0.111383            -0.297272                  -0.029566   \n",
                            "946      1         -0.068869             0.274325                   0.121117   \n",
                            "\n",
                            "      Avg. Area Number of Bedrooms  Area Population  \n",
                            "4431                      0.085160        -0.110687  \n",
                            "2162                     -0.123729         0.076552  \n",
                            "2396                     -0.123729        -0.231148  \n",
                            "4768                      0.222938         0.058826  \n",
                            "2271                      0.522938        -0.049823  \n",
                            "...                            ...              ...  \n",
                            "3335                      0.087382         0.124927  \n",
                            "1920                     -0.221507        -0.043642  \n",
                            "3715                     -0.132618        -0.154638  \n",
                            "4646                     -0.370396        -0.083428  \n",
                            "946                       0.460716        -0.203140  \n",
                            "\n",
                            "[500 rows x 6 columns]"
                        ],
                        "text/html": [
                            "<div>\n",
                            "<style scoped>\n",
                            "    .dataframe tbody tr th:only-of-type {\n",
                            "        vertical-align: middle;\n",
                            "    }\n",
                            "\n",
                            "    .dataframe tbody tr th {\n",
                            "        vertical-align: top;\n",
                            "    }\n",
                            "\n",
                            "    .dataframe thead th {\n",
                            "        text-align: right;\n",
                            "    }\n",
                            "</style>\n",
                            "<table border=\"1\" class=\"dataframe\">\n",
                            "  <thead>\n",
                            "    <tr style=\"text-align: right;\">\n",
                            "      <th></th>\n",
                            "      <th>bias</th>\n",
                            "      <th>Avg. Area Income</th>\n",
                            "      <th>Avg. Area House Age</th>\n",
                            "      <th>Avg. Area Number of Rooms</th>\n",
                            "      <th>Avg. Area Number of Bedrooms</th>\n",
                            "      <th>Area Population</th>\n",
                            "    </tr>\n",
                            "  </thead>\n",
                            "  <tbody>\n",
                            "    <tr>\n",
                            "      <th>4431</th>\n",
                            "      <td>1</td>\n",
                            "      <td>0.035773</td>\n",
                            "      <td>-0.025634</td>\n",
                            "      <td>0.313063</td>\n",
                            "      <td>0.085160</td>\n",
                            "      <td>-0.110687</td>\n",
                            "    </tr>\n",
                            "    <tr>\n",
                            "      <th>2162</th>\n",
                            "      <td>1</td>\n",
                            "      <td>-0.075225</td>\n",
                            "      <td>-0.213942</td>\n",
                            "      <td>0.086926</td>\n",
                            "      <td>-0.123729</td>\n",
                            "      <td>0.076552</td>\n",
                            "    </tr>\n",
                            "    <tr>\n",
                            "      <th>2396</th>\n",
                            "      <td>1</td>\n",
                            "      <td>-0.062737</td>\n",
                            "      <td>0.072070</td>\n",
                            "      <td>0.169223</td>\n",
                            "      <td>-0.123729</td>\n",
                            "      <td>-0.231148</td>\n",
                            "    </tr>\n",
                            "    <tr>\n",
                            "      <th>4768</th>\n",
                            "      <td>1</td>\n",
                            "      <td>0.039604</td>\n",
                            "      <td>-0.171099</td>\n",
                            "      <td>0.039611</td>\n",
                            "      <td>0.222938</td>\n",
                            "      <td>0.058826</td>\n",
                            "    </tr>\n",
                            "    <tr>\n",
                            "      <th>2271</th>\n",
                            "      <td>1</td>\n",
                            "      <td>-0.031072</td>\n",
                            "      <td>0.006331</td>\n",
                            "      <td>0.194389</td>\n",
                            "      <td>0.522938</td>\n",
                            "      <td>-0.049823</td>\n",
                            "    </tr>\n",
                            "    <tr>\n",
                            "      <th>...</th>\n",
                            "      <td>...</td>\n",
                            "      <td>...</td>\n",
                            "      <td>...</td>\n",
                            "      <td>...</td>\n",
                            "      <td>...</td>\n",
                            "      <td>...</td>\n",
                            "    </tr>\n",
                            "    <tr>\n",
                            "      <th>3335</th>\n",
                            "      <td>1</td>\n",
                            "      <td>0.218538</td>\n",
                            "      <td>0.031976</td>\n",
                            "      <td>0.170684</td>\n",
                            "      <td>0.087382</td>\n",
                            "      <td>0.124927</td>\n",
                            "    </tr>\n",
                            "    <tr>\n",
                            "      <th>1920</th>\n",
                            "      <td>1</td>\n",
                            "      <td>0.013421</td>\n",
                            "      <td>0.016097</td>\n",
                            "      <td>-0.228818</td>\n",
                            "      <td>-0.221507</td>\n",
                            "      <td>-0.043642</td>\n",
                            "    </tr>\n",
                            "    <tr>\n",
                            "      <th>3715</th>\n",
                            "      <td>1</td>\n",
                            "      <td>-0.049487</td>\n",
                            "      <td>-0.112496</td>\n",
                            "      <td>0.246488</td>\n",
                            "      <td>-0.132618</td>\n",
                            "      <td>-0.154638</td>\n",
                            "    </tr>\n",
                            "    <tr>\n",
                            "      <th>4646</th>\n",
                            "      <td>1</td>\n",
                            "      <td>0.111383</td>\n",
                            "      <td>-0.297272</td>\n",
                            "      <td>-0.029566</td>\n",
                            "      <td>-0.370396</td>\n",
                            "      <td>-0.083428</td>\n",
                            "    </tr>\n",
                            "    <tr>\n",
                            "      <th>946</th>\n",
                            "      <td>1</td>\n",
                            "      <td>-0.068869</td>\n",
                            "      <td>0.274325</td>\n",
                            "      <td>0.121117</td>\n",
                            "      <td>0.460716</td>\n",
                            "      <td>-0.203140</td>\n",
                            "    </tr>\n",
                            "  </tbody>\n",
                            "</table>\n",
                            "<p>500 rows × 6 columns</p>\n",
                            "</div>"
                        ]
                    },
                    "metadata": {},
                    "execution_count": 11
                }
            ],
            "metadata": {}
        },
        {
            "cell_type": "code",
            "execution_count": 12,
            "source": [
                "X_train"
            ],
            "outputs": [
                {
                    "output_type": "execute_result",
                    "data": {
                        "text/plain": [
                            "      bias  Avg. Area Income  Avg. Area House Age  Avg. Area Number of Rooms  \\\n",
                            "1501     1         -0.094013             0.163352                  -0.073005   \n",
                            "2586     1         -0.159864             0.143778                  -0.009034   \n",
                            "2653     1          0.020884             0.120492                  -0.043456   \n",
                            "1055     1          0.008760             0.050630                   0.117510   \n",
                            "705      1          0.059732            -0.403059                  -0.065851   \n",
                            "...    ...               ...                  ...                        ...   \n",
                            "2087     1         -0.087598             0.092981                  -0.033099   \n",
                            "1889     1          0.092684             0.216721                  -0.189277   \n",
                            "4622     1         -0.055040            -0.022495                   0.029118   \n",
                            "1591     1          0.248314            -0.179309                  -0.000420   \n",
                            "1346     1         -0.281890             0.027258                   0.167810   \n",
                            "\n",
                            "      Avg. Area Number of Bedrooms  Area Population  \n",
                            "1501                     -0.161885         0.110012  \n",
                            "2586                     -0.188552         0.104800  \n",
                            "2653                     -0.437441        -0.100503  \n",
                            "1055                      0.067004        -0.169171  \n",
                            "705                      -0.332996         0.207932  \n",
                            "...                            ...              ...  \n",
                            "2087                      0.098115        -0.129226  \n",
                            "1889                     -0.166330        -0.065146  \n",
                            "4622                     -0.128552        -0.062395  \n",
                            "1591                     -0.417441         0.058918  \n",
                            "1346                      0.047004         0.189603  \n",
                            "\n",
                            "[3500 rows x 6 columns]"
                        ],
                        "text/html": [
                            "<div>\n",
                            "<style scoped>\n",
                            "    .dataframe tbody tr th:only-of-type {\n",
                            "        vertical-align: middle;\n",
                            "    }\n",
                            "\n",
                            "    .dataframe tbody tr th {\n",
                            "        vertical-align: top;\n",
                            "    }\n",
                            "\n",
                            "    .dataframe thead th {\n",
                            "        text-align: right;\n",
                            "    }\n",
                            "</style>\n",
                            "<table border=\"1\" class=\"dataframe\">\n",
                            "  <thead>\n",
                            "    <tr style=\"text-align: right;\">\n",
                            "      <th></th>\n",
                            "      <th>bias</th>\n",
                            "      <th>Avg. Area Income</th>\n",
                            "      <th>Avg. Area House Age</th>\n",
                            "      <th>Avg. Area Number of Rooms</th>\n",
                            "      <th>Avg. Area Number of Bedrooms</th>\n",
                            "      <th>Area Population</th>\n",
                            "    </tr>\n",
                            "  </thead>\n",
                            "  <tbody>\n",
                            "    <tr>\n",
                            "      <th>1501</th>\n",
                            "      <td>1</td>\n",
                            "      <td>-0.094013</td>\n",
                            "      <td>0.163352</td>\n",
                            "      <td>-0.073005</td>\n",
                            "      <td>-0.161885</td>\n",
                            "      <td>0.110012</td>\n",
                            "    </tr>\n",
                            "    <tr>\n",
                            "      <th>2586</th>\n",
                            "      <td>1</td>\n",
                            "      <td>-0.159864</td>\n",
                            "      <td>0.143778</td>\n",
                            "      <td>-0.009034</td>\n",
                            "      <td>-0.188552</td>\n",
                            "      <td>0.104800</td>\n",
                            "    </tr>\n",
                            "    <tr>\n",
                            "      <th>2653</th>\n",
                            "      <td>1</td>\n",
                            "      <td>0.020884</td>\n",
                            "      <td>0.120492</td>\n",
                            "      <td>-0.043456</td>\n",
                            "      <td>-0.437441</td>\n",
                            "      <td>-0.100503</td>\n",
                            "    </tr>\n",
                            "    <tr>\n",
                            "      <th>1055</th>\n",
                            "      <td>1</td>\n",
                            "      <td>0.008760</td>\n",
                            "      <td>0.050630</td>\n",
                            "      <td>0.117510</td>\n",
                            "      <td>0.067004</td>\n",
                            "      <td>-0.169171</td>\n",
                            "    </tr>\n",
                            "    <tr>\n",
                            "      <th>705</th>\n",
                            "      <td>1</td>\n",
                            "      <td>0.059732</td>\n",
                            "      <td>-0.403059</td>\n",
                            "      <td>-0.065851</td>\n",
                            "      <td>-0.332996</td>\n",
                            "      <td>0.207932</td>\n",
                            "    </tr>\n",
                            "    <tr>\n",
                            "      <th>...</th>\n",
                            "      <td>...</td>\n",
                            "      <td>...</td>\n",
                            "      <td>...</td>\n",
                            "      <td>...</td>\n",
                            "      <td>...</td>\n",
                            "      <td>...</td>\n",
                            "    </tr>\n",
                            "    <tr>\n",
                            "      <th>2087</th>\n",
                            "      <td>1</td>\n",
                            "      <td>-0.087598</td>\n",
                            "      <td>0.092981</td>\n",
                            "      <td>-0.033099</td>\n",
                            "      <td>0.098115</td>\n",
                            "      <td>-0.129226</td>\n",
                            "    </tr>\n",
                            "    <tr>\n",
                            "      <th>1889</th>\n",
                            "      <td>1</td>\n",
                            "      <td>0.092684</td>\n",
                            "      <td>0.216721</td>\n",
                            "      <td>-0.189277</td>\n",
                            "      <td>-0.166330</td>\n",
                            "      <td>-0.065146</td>\n",
                            "    </tr>\n",
                            "    <tr>\n",
                            "      <th>4622</th>\n",
                            "      <td>1</td>\n",
                            "      <td>-0.055040</td>\n",
                            "      <td>-0.022495</td>\n",
                            "      <td>0.029118</td>\n",
                            "      <td>-0.128552</td>\n",
                            "      <td>-0.062395</td>\n",
                            "    </tr>\n",
                            "    <tr>\n",
                            "      <th>1591</th>\n",
                            "      <td>1</td>\n",
                            "      <td>0.248314</td>\n",
                            "      <td>-0.179309</td>\n",
                            "      <td>-0.000420</td>\n",
                            "      <td>-0.417441</td>\n",
                            "      <td>0.058918</td>\n",
                            "    </tr>\n",
                            "    <tr>\n",
                            "      <th>1346</th>\n",
                            "      <td>1</td>\n",
                            "      <td>-0.281890</td>\n",
                            "      <td>0.027258</td>\n",
                            "      <td>0.167810</td>\n",
                            "      <td>0.047004</td>\n",
                            "      <td>0.189603</td>\n",
                            "    </tr>\n",
                            "  </tbody>\n",
                            "</table>\n",
                            "<p>3500 rows × 6 columns</p>\n",
                            "</div>"
                        ]
                    },
                    "metadata": {},
                    "execution_count": 12
                }
            ],
            "metadata": {}
        },
        {
            "cell_type": "code",
            "execution_count": 13,
            "source": [
                "theta=np.zeros(X_train.shape[1]).reshape(1,X_train.shape[1])\r\n",
                "#defining weight matrix and initializing it"
            ],
            "outputs": [],
            "metadata": {}
        },
        {
            "cell_type": "code",
            "execution_count": 14,
            "source": [
                "theta.shape\r\n",
                "#shape"
            ],
            "outputs": [
                {
                    "output_type": "execute_result",
                    "data": {
                        "text/plain": [
                            "(1, 6)"
                        ]
                    },
                    "metadata": {},
                    "execution_count": 14
                }
            ],
            "metadata": {}
        },
        {
            "cell_type": "code",
            "execution_count": 15,
            "source": [
                "def cost(x,y,theta):\r\n",
                "    z1=np.dot(x,theta.T)\r\n",
                "    z1=z1-y\r\n",
                "    z1=np.sum(np.square(z1))\r\n",
                "    z1=z1/(2*len(x))\r\n",
                "    lam=0.0001\r\n",
                "    z2=np.sum((lam/(2*len(x)))*np.square(theta[:,1:]))\r\n",
                "    return (z1+z2)\r\n",
                "    #cost function with regularization"
            ],
            "outputs": [],
            "metadata": {}
        },
        {
            "cell_type": "code",
            "execution_count": 16,
            "source": [
                "cost(X_train,y_train,theta)\r\n",
                "#calling cost, just to check"
            ],
            "outputs": [
                {
                    "output_type": "execute_result",
                    "data": {
                        "text/plain": [
                            "Price    8.238117e+11\n",
                            "dtype: float64"
                        ]
                    },
                    "metadata": {},
                    "execution_count": 16
                }
            ],
            "metadata": {}
        },
        {
            "cell_type": "code",
            "execution_count": 17,
            "source": [
                "def gradient(x,y,theta):\r\n",
                "    alpha=0.0001\r\n",
                "    lam=0.0001\r\n",
                "    m=len(x)\r\n",
                "    z2=np.zeros(theta.shape)\r\n",
                "    costi=np.zeros(40000)\r\n",
                "    for i in range(40000):\r\n",
                "        z1=np.dot(x,theta.T)\r\n",
                "        z1=z1-y\r\n",
                "        z1=np.dot(z1.T,x)\r\n",
                "        z1=z1/m\r\n",
                "        z2[:,1:] =(lam/m)*theta[:,1:]\r\n",
                "        z1=z1+z2\r\n",
                "        theta=theta-(alpha*z1)\r\n",
                "        costi[i]=cost(x,y,theta)\r\n",
                "    return theta,costi\r\n",
                "    #gradient descent with regularization"
            ],
            "outputs": [],
            "metadata": {}
        },
        {
            "cell_type": "code",
            "execution_count": 18,
            "source": [
                "f,g=gradient(X_train,y_train,theta)\r\n",
                "#catching theta and cost function"
            ],
            "outputs": [],
            "metadata": {}
        },
        {
            "cell_type": "code",
            "execution_count": 85,
            "source": [
                "g[30000],g[39999]\r\n",
                "#checking if cost function is converging or not"
            ],
            "outputs": [
                {
                    "output_type": "execute_result",
                    "data": {
                        "text/plain": [
                            "(55869960841.28605, 52140191284.18722)"
                        ]
                    },
                    "metadata": {},
                    "execution_count": 85
                }
            ],
            "metadata": {}
        },
        {
            "cell_type": "code",
            "execution_count": 26,
            "source": [
                "pre=np.dot(X_validation,f.T)\r\n",
                "#finding predictions for validation set"
            ],
            "outputs": [],
            "metadata": {}
        },
        {
            "cell_type": "code",
            "execution_count": 27,
            "source": [
                "pre=pd.DataFrame(pre)"
            ],
            "outputs": [],
            "metadata": {}
        },
        {
            "cell_type": "code",
            "execution_count": 42,
            "source": [
                "pre"
            ],
            "outputs": [
                {
                    "output_type": "execute_result",
                    "data": {
                        "text/plain": [
                            "                0\n",
                            "0    1.229550e+06\n",
                            "1    1.187634e+06\n",
                            "2    1.197059e+06\n",
                            "3    1.220752e+06\n",
                            "4    1.245594e+06\n",
                            "..            ...\n",
                            "495  1.267295e+06\n",
                            "496  1.186634e+06\n",
                            "497  1.191659e+06\n",
                            "498  1.170776e+06\n",
                            "499  1.246115e+06\n",
                            "\n",
                            "[500 rows x 1 columns]"
                        ],
                        "text/html": [
                            "<div>\n",
                            "<style scoped>\n",
                            "    .dataframe tbody tr th:only-of-type {\n",
                            "        vertical-align: middle;\n",
                            "    }\n",
                            "\n",
                            "    .dataframe tbody tr th {\n",
                            "        vertical-align: top;\n",
                            "    }\n",
                            "\n",
                            "    .dataframe thead th {\n",
                            "        text-align: right;\n",
                            "    }\n",
                            "</style>\n",
                            "<table border=\"1\" class=\"dataframe\">\n",
                            "  <thead>\n",
                            "    <tr style=\"text-align: right;\">\n",
                            "      <th></th>\n",
                            "      <th>0</th>\n",
                            "    </tr>\n",
                            "  </thead>\n",
                            "  <tbody>\n",
                            "    <tr>\n",
                            "      <th>0</th>\n",
                            "      <td>1.229550e+06</td>\n",
                            "    </tr>\n",
                            "    <tr>\n",
                            "      <th>1</th>\n",
                            "      <td>1.187634e+06</td>\n",
                            "    </tr>\n",
                            "    <tr>\n",
                            "      <th>2</th>\n",
                            "      <td>1.197059e+06</td>\n",
                            "    </tr>\n",
                            "    <tr>\n",
                            "      <th>3</th>\n",
                            "      <td>1.220752e+06</td>\n",
                            "    </tr>\n",
                            "    <tr>\n",
                            "      <th>4</th>\n",
                            "      <td>1.245594e+06</td>\n",
                            "    </tr>\n",
                            "    <tr>\n",
                            "      <th>...</th>\n",
                            "      <td>...</td>\n",
                            "    </tr>\n",
                            "    <tr>\n",
                            "      <th>495</th>\n",
                            "      <td>1.267295e+06</td>\n",
                            "    </tr>\n",
                            "    <tr>\n",
                            "      <th>496</th>\n",
                            "      <td>1.186634e+06</td>\n",
                            "    </tr>\n",
                            "    <tr>\n",
                            "      <th>497</th>\n",
                            "      <td>1.191659e+06</td>\n",
                            "    </tr>\n",
                            "    <tr>\n",
                            "      <th>498</th>\n",
                            "      <td>1.170776e+06</td>\n",
                            "    </tr>\n",
                            "    <tr>\n",
                            "      <th>499</th>\n",
                            "      <td>1.246115e+06</td>\n",
                            "    </tr>\n",
                            "  </tbody>\n",
                            "</table>\n",
                            "<p>500 rows × 1 columns</p>\n",
                            "</div>"
                        ]
                    },
                    "metadata": {},
                    "execution_count": 42
                }
            ],
            "metadata": {}
        },
        {
            "cell_type": "code",
            "execution_count": 78,
            "source": [
                "correct = [1 if a-b<300000 else 0 for (a, b) in zip(pre.iloc[:,0], y_validation.iloc[:,0])]\r\n",
                "accuracy = (sum(map(int, correct)) / float(len(correct)))\r\n",
                "print ('accuracy = {0}%'.format(accuracy * 100))\r\n",
                "#accuracy of validation set"
            ],
            "outputs": [
                {
                    "output_type": "stream",
                    "name": "stdout",
                    "text": [
                        "accuracy = 82.19999999999999%\n"
                    ]
                }
            ],
            "metadata": {}
        },
        {
            "cell_type": "code",
            "execution_count": null,
            "source": [
                "# the purpose of validation set is to know whether we need more iteration or the cost function is good to go for test set. so if accuracy is not good at validation set then change your cost function..\r\n",
                "#  in this case, it could be even more better but it would require more iteration, which my pc can't handle\r\n"
            ],
            "outputs": [],
            "metadata": {}
        },
        {
            "cell_type": "code",
            "execution_count": 80,
            "source": [
                "predictions=np.dot(X_test,f.T)\r\n",
                "#finding predictions"
            ],
            "outputs": [],
            "metadata": {}
        },
        {
            "cell_type": "code",
            "execution_count": 82,
            "source": [
                "predictions=pd.DataFrame(predictions)"
            ],
            "outputs": [],
            "metadata": {}
        },
        {
            "cell_type": "code",
            "execution_count": 83,
            "source": [
                "correct = [1 if a-b<300000 else 0 for (a, b) in zip(predictions.iloc[:,0], y_test.iloc[:,0])]\r\n",
                "accuracy = (sum(map(int, correct)) / float(len(correct)))\r\n",
                "print ('accuracy = {0}%'.format(accuracy * 100))\r\n",
                "#test accuracy..just for education purpose"
            ],
            "outputs": [
                {
                    "output_type": "stream",
                    "name": "stdout",
                    "text": [
                        "accuracy = 81.89999999999999%\n"
                    ]
                }
            ],
            "metadata": {}
        },
        {
            "cell_type": "code",
            "execution_count": null,
            "source": [],
            "outputs": [],
            "metadata": {}
        }
    ],
    "metadata": {
        "orig_nbformat": 4,
        "language_info": {
            "name": "python",
            "version": "3.9.5",
            "mimetype": "text/x-python",
            "codemirror_mode": {
                "name": "ipython",
                "version": 3
            },
            "pygments_lexer": "ipython3",
            "nbconvert_exporter": "python",
            "file_extension": ".py"
        },
        "kernelspec": {
            "name": "python3",
            "display_name": "Python 3.9.5 64-bit"
        },
        "interpreter": {
            "hash": "33dc6d49505b4536b6a128d9d7c879e1fa44477ad44947bbbe73093067fe6393"
        }
    },
    "nbformat": 4,
    "nbformat_minor": 2
}