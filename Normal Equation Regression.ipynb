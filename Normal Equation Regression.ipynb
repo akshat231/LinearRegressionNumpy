{
    "cells": [
        {
            "cell_type": "code",
            "execution_count": 403,
            "source": [
                "import numpy as np  \r\n",
                "import pandas as pd \r\n",
                "#importing modules.. to see graphical analyiss, see the earliest file"
            ],
            "outputs": [],
            "metadata": {}
        },
        {
            "cell_type": "code",
            "execution_count": 404,
            "source": [
                "df=pd.read_csv('USA_Housing.csv')\r\n",
                "#reading data"
            ],
            "outputs": [],
            "metadata": {}
        },
        {
            "cell_type": "code",
            "execution_count": 405,
            "source": [
                "df.head()"
            ],
            "outputs": [
                {
                    "output_type": "execute_result",
                    "data": {
                        "text/plain": [
                            "   Avg. Area Income  Avg. Area House Age  Avg. Area Number of Rooms  \\\n",
                            "0      79545.458574             5.682861                   7.009188   \n",
                            "1      79248.642455             6.002900                   6.730821   \n",
                            "2      61287.067179             5.865890                   8.512727   \n",
                            "3      63345.240046             7.188236                   5.586729   \n",
                            "4      59982.197226             5.040555                   7.839388   \n",
                            "\n",
                            "   Avg. Area Number of Bedrooms  Area Population         Price  \\\n",
                            "0                          4.09     23086.800503  1.059034e+06   \n",
                            "1                          3.09     40173.072174  1.505891e+06   \n",
                            "2                          5.13     36882.159400  1.058988e+06   \n",
                            "3                          3.26     34310.242831  1.260617e+06   \n",
                            "4                          4.23     26354.109472  6.309435e+05   \n",
                            "\n",
                            "                                             Address  \n",
                            "0  208 Michael Ferry Apt. 674\\nLaurabury, NE 3701...  \n",
                            "1  188 Johnson Views Suite 079\\nLake Kathleen, CA...  \n",
                            "2  9127 Elizabeth Stravenue\\nDanieltown, WI 06482...  \n",
                            "3                          USS Barnett\\nFPO AP 44820  \n",
                            "4                         USNS Raymond\\nFPO AE 09386  "
                        ],
                        "text/html": [
                            "<div>\n",
                            "<style scoped>\n",
                            "    .dataframe tbody tr th:only-of-type {\n",
                            "        vertical-align: middle;\n",
                            "    }\n",
                            "\n",
                            "    .dataframe tbody tr th {\n",
                            "        vertical-align: top;\n",
                            "    }\n",
                            "\n",
                            "    .dataframe thead th {\n",
                            "        text-align: right;\n",
                            "    }\n",
                            "</style>\n",
                            "<table border=\"1\" class=\"dataframe\">\n",
                            "  <thead>\n",
                            "    <tr style=\"text-align: right;\">\n",
                            "      <th></th>\n",
                            "      <th>Avg. Area Income</th>\n",
                            "      <th>Avg. Area House Age</th>\n",
                            "      <th>Avg. Area Number of Rooms</th>\n",
                            "      <th>Avg. Area Number of Bedrooms</th>\n",
                            "      <th>Area Population</th>\n",
                            "      <th>Price</th>\n",
                            "      <th>Address</th>\n",
                            "    </tr>\n",
                            "  </thead>\n",
                            "  <tbody>\n",
                            "    <tr>\n",
                            "      <th>0</th>\n",
                            "      <td>79545.458574</td>\n",
                            "      <td>5.682861</td>\n",
                            "      <td>7.009188</td>\n",
                            "      <td>4.09</td>\n",
                            "      <td>23086.800503</td>\n",
                            "      <td>1.059034e+06</td>\n",
                            "      <td>208 Michael Ferry Apt. 674\\nLaurabury, NE 3701...</td>\n",
                            "    </tr>\n",
                            "    <tr>\n",
                            "      <th>1</th>\n",
                            "      <td>79248.642455</td>\n",
                            "      <td>6.002900</td>\n",
                            "      <td>6.730821</td>\n",
                            "      <td>3.09</td>\n",
                            "      <td>40173.072174</td>\n",
                            "      <td>1.505891e+06</td>\n",
                            "      <td>188 Johnson Views Suite 079\\nLake Kathleen, CA...</td>\n",
                            "    </tr>\n",
                            "    <tr>\n",
                            "      <th>2</th>\n",
                            "      <td>61287.067179</td>\n",
                            "      <td>5.865890</td>\n",
                            "      <td>8.512727</td>\n",
                            "      <td>5.13</td>\n",
                            "      <td>36882.159400</td>\n",
                            "      <td>1.058988e+06</td>\n",
                            "      <td>9127 Elizabeth Stravenue\\nDanieltown, WI 06482...</td>\n",
                            "    </tr>\n",
                            "    <tr>\n",
                            "      <th>3</th>\n",
                            "      <td>63345.240046</td>\n",
                            "      <td>7.188236</td>\n",
                            "      <td>5.586729</td>\n",
                            "      <td>3.26</td>\n",
                            "      <td>34310.242831</td>\n",
                            "      <td>1.260617e+06</td>\n",
                            "      <td>USS Barnett\\nFPO AP 44820</td>\n",
                            "    </tr>\n",
                            "    <tr>\n",
                            "      <th>4</th>\n",
                            "      <td>59982.197226</td>\n",
                            "      <td>5.040555</td>\n",
                            "      <td>7.839388</td>\n",
                            "      <td>4.23</td>\n",
                            "      <td>26354.109472</td>\n",
                            "      <td>6.309435e+05</td>\n",
                            "      <td>USNS Raymond\\nFPO AE 09386</td>\n",
                            "    </tr>\n",
                            "  </tbody>\n",
                            "</table>\n",
                            "</div>"
                        ]
                    },
                    "metadata": {},
                    "execution_count": 405
                }
            ],
            "metadata": {}
        },
        {
            "cell_type": "code",
            "execution_count": 406,
            "source": [
                "df=df.drop('Address',axis=1)\r\n",
                "#dropping address column"
            ],
            "outputs": [],
            "metadata": {}
        },
        {
            "cell_type": "code",
            "execution_count": 407,
            "source": [
                "df.head()\r\n",
                "#head of data"
            ],
            "outputs": [
                {
                    "output_type": "execute_result",
                    "data": {
                        "text/plain": [
                            "   Avg. Area Income  Avg. Area House Age  Avg. Area Number of Rooms  \\\n",
                            "0      79545.458574             5.682861                   7.009188   \n",
                            "1      79248.642455             6.002900                   6.730821   \n",
                            "2      61287.067179             5.865890                   8.512727   \n",
                            "3      63345.240046             7.188236                   5.586729   \n",
                            "4      59982.197226             5.040555                   7.839388   \n",
                            "\n",
                            "   Avg. Area Number of Bedrooms  Area Population         Price  \n",
                            "0                          4.09     23086.800503  1.059034e+06  \n",
                            "1                          3.09     40173.072174  1.505891e+06  \n",
                            "2                          5.13     36882.159400  1.058988e+06  \n",
                            "3                          3.26     34310.242831  1.260617e+06  \n",
                            "4                          4.23     26354.109472  6.309435e+05  "
                        ],
                        "text/html": [
                            "<div>\n",
                            "<style scoped>\n",
                            "    .dataframe tbody tr th:only-of-type {\n",
                            "        vertical-align: middle;\n",
                            "    }\n",
                            "\n",
                            "    .dataframe tbody tr th {\n",
                            "        vertical-align: top;\n",
                            "    }\n",
                            "\n",
                            "    .dataframe thead th {\n",
                            "        text-align: right;\n",
                            "    }\n",
                            "</style>\n",
                            "<table border=\"1\" class=\"dataframe\">\n",
                            "  <thead>\n",
                            "    <tr style=\"text-align: right;\">\n",
                            "      <th></th>\n",
                            "      <th>Avg. Area Income</th>\n",
                            "      <th>Avg. Area House Age</th>\n",
                            "      <th>Avg. Area Number of Rooms</th>\n",
                            "      <th>Avg. Area Number of Bedrooms</th>\n",
                            "      <th>Area Population</th>\n",
                            "      <th>Price</th>\n",
                            "    </tr>\n",
                            "  </thead>\n",
                            "  <tbody>\n",
                            "    <tr>\n",
                            "      <th>0</th>\n",
                            "      <td>79545.458574</td>\n",
                            "      <td>5.682861</td>\n",
                            "      <td>7.009188</td>\n",
                            "      <td>4.09</td>\n",
                            "      <td>23086.800503</td>\n",
                            "      <td>1.059034e+06</td>\n",
                            "    </tr>\n",
                            "    <tr>\n",
                            "      <th>1</th>\n",
                            "      <td>79248.642455</td>\n",
                            "      <td>6.002900</td>\n",
                            "      <td>6.730821</td>\n",
                            "      <td>3.09</td>\n",
                            "      <td>40173.072174</td>\n",
                            "      <td>1.505891e+06</td>\n",
                            "    </tr>\n",
                            "    <tr>\n",
                            "      <th>2</th>\n",
                            "      <td>61287.067179</td>\n",
                            "      <td>5.865890</td>\n",
                            "      <td>8.512727</td>\n",
                            "      <td>5.13</td>\n",
                            "      <td>36882.159400</td>\n",
                            "      <td>1.058988e+06</td>\n",
                            "    </tr>\n",
                            "    <tr>\n",
                            "      <th>3</th>\n",
                            "      <td>63345.240046</td>\n",
                            "      <td>7.188236</td>\n",
                            "      <td>5.586729</td>\n",
                            "      <td>3.26</td>\n",
                            "      <td>34310.242831</td>\n",
                            "      <td>1.260617e+06</td>\n",
                            "    </tr>\n",
                            "    <tr>\n",
                            "      <th>4</th>\n",
                            "      <td>59982.197226</td>\n",
                            "      <td>5.040555</td>\n",
                            "      <td>7.839388</td>\n",
                            "      <td>4.23</td>\n",
                            "      <td>26354.109472</td>\n",
                            "      <td>6.309435e+05</td>\n",
                            "    </tr>\n",
                            "  </tbody>\n",
                            "</table>\n",
                            "</div>"
                        ]
                    },
                    "metadata": {},
                    "execution_count": 407
                }
            ],
            "metadata": {}
        },
        {
            "cell_type": "code",
            "execution_count": 408,
            "source": [
                "train, validate, test = \\\r\n",
                "              np.split(df.sample(frac=1, random_state=42), \r\n",
                "                       [int(.7*len(df)), int(.8*len(df))])\r\n",
                "                       #splitting data"
            ],
            "outputs": [],
            "metadata": {}
        },
        {
            "cell_type": "code",
            "execution_count": 409,
            "source": [
                "train.shape"
            ],
            "outputs": [
                {
                    "output_type": "execute_result",
                    "data": {
                        "text/plain": [
                            "(3500, 6)"
                        ]
                    },
                    "metadata": {},
                    "execution_count": 409
                }
            ],
            "metadata": {}
        },
        {
            "cell_type": "code",
            "execution_count": 410,
            "source": [
                "validate.shape"
            ],
            "outputs": [
                {
                    "output_type": "execute_result",
                    "data": {
                        "text/plain": [
                            "(500, 6)"
                        ]
                    },
                    "metadata": {},
                    "execution_count": 410
                }
            ],
            "metadata": {}
        },
        {
            "cell_type": "code",
            "execution_count": 411,
            "source": [
                "test.shape"
            ],
            "outputs": [
                {
                    "output_type": "execute_result",
                    "data": {
                        "text/plain": [
                            "(1000, 6)"
                        ]
                    },
                    "metadata": {},
                    "execution_count": 411
                }
            ],
            "metadata": {}
        },
        {
            "cell_type": "code",
            "execution_count": 412,
            "source": [
                "def scaler(x):\r\n",
                "    return ((x-x.mean(axis=0))/(x.max(axis=0)-x.min(axis=0)))"
            ],
            "outputs": [],
            "metadata": {}
        },
        {
            "cell_type": "code",
            "execution_count": 413,
            "source": [
                "X_train=train.drop('Price',axis=1)\r\n",
                "X_validation=validate.drop('Price',axis=1)\r\n",
                "X_test=test.drop('Price',axis=1)\r\n",
                "y_train=train[['Price']]\r\n",
                "y_validation=validate[['Price']]\r\n",
                "y_test=test[['Price']]\r\n",
                "#defining data"
            ],
            "outputs": [],
            "metadata": {}
        },
        {
            "cell_type": "code",
            "execution_count": 414,
            "source": [
                "X_train=scaler(X_train)\r\n",
                "X_validation=scaler(X_validation)\r\n",
                "X_test=scaler(X_test)\r\n",
                "#scaling data"
            ],
            "outputs": [],
            "metadata": {}
        },
        {
            "cell_type": "code",
            "execution_count": 415,
            "source": [
                "X_train.insert(0,'bias',value=1)\r\n",
                "X_validation.insert(0,'bias',value=1)\r\n",
                "X_test.insert(0,'bias',value=1)\r\n",
                "#inserting bias column"
            ],
            "outputs": [],
            "metadata": {}
        },
        {
            "cell_type": "code",
            "execution_count": 416,
            "source": [
                "def normality(x,y):\r\n",
                "    z1=np.dot(x.T,x)\r\n",
                "    z1=np.linalg.pinv(z1)\r\n",
                "    z2=np.dot(x.T,y)\r\n",
                "    lam=0.0001\r\n",
                "    f=np.eye(z1.shape[1])\r\n",
                "    f[0,0]=0\r\n",
                "    z1=z1+f\r\n",
                "    total=np.dot(z1,z2)\r\n",
                "    theta=total\r\n",
                "    return theta\r\n",
                "    #normal equation"
            ],
            "outputs": [],
            "metadata": {}
        },
        {
            "cell_type": "code",
            "execution_count": 417,
            "source": [
                "theta=normality(X_train,y_train)\r\n",
                "#weight matrix"
            ],
            "outputs": [],
            "metadata": {}
        },
        {
            "cell_type": "code",
            "execution_count": 418,
            "source": [
                "pre=np.dot(X_validation,theta)\r\n",
                "#predictions for validation set"
            ],
            "outputs": [],
            "metadata": {}
        },
        {
            "cell_type": "code",
            "execution_count": 419,
            "source": [
                "pre=pd.DataFrame(pre)"
            ],
            "outputs": [],
            "metadata": {}
        },
        {
            "cell_type": "code",
            "execution_count": 420,
            "source": [
                "correct = [1 if abs(a-b)<500000 else 0 for (a, b) in zip(pre.iloc[:,0], y_validation.iloc[:,0])]\r\n",
                "accuracy = (sum(map(int, correct)) / float(len(correct)))\r\n",
                "print ('accuracy = {0}%'.format(accuracy * 100))\r\n",
                "#accuracy for validation set"
            ],
            "outputs": [
                {
                    "output_type": "stream",
                    "name": "stdout",
                    "text": [
                        "accuracy = 1.2%\n"
                    ]
                }
            ],
            "metadata": {}
        },
        {
            "cell_type": "code",
            "execution_count": 421,
            "source": [
                "theta"
            ],
            "outputs": [
                {
                    "output_type": "execute_result",
                    "data": {
                        "text/plain": [
                            "array([[1.23514352e+06],\n",
                            "       [1.16004365e+08],\n",
                            "       [8.54049926e+07],\n",
                            "       [5.66172286e+07],\n",
                            "       [5.74305640e+07],\n",
                            "       [6.98241610e+07]])"
                        ]
                    },
                    "metadata": {},
                    "execution_count": 421
                }
            ],
            "metadata": {}
        },
        {
            "cell_type": "code",
            "execution_count": 422,
            "source": [
                "#as you can see accuracy is pretty lower, this is because theta, (weight matrix) is pretty high, so we need to decrease the weight. This can be done by scaling again, as weight depends on X (feature matrix). \r\n",
                "# So let's try it"
            ],
            "outputs": [],
            "metadata": {}
        },
        {
            "cell_type": "code",
            "execution_count": 423,
            "source": [
                "X_train.iloc[:,1:]=scaler(X_train.iloc[:,1:])\r\n",
                "X_validation.iloc[:,1:]=scaler(X_validation.iloc[:,1:])\r\n",
                "X_test.iloc[:,1:]=scaler(X_test.iloc[:,1:])"
            ],
            "outputs": [],
            "metadata": {}
        },
        {
            "cell_type": "code",
            "execution_count": 424,
            "source": [
                "X_train.head()"
            ],
            "outputs": [
                {
                    "output_type": "execute_result",
                    "data": {
                        "text/plain": [
                            "      bias  Avg. Area Income  Avg. Area House Age  Avg. Area Number of Rooms  \\\n",
                            "1501     1         -0.094013             0.163352                  -0.073005   \n",
                            "2586     1         -0.159864             0.143778                  -0.009034   \n",
                            "2653     1          0.020884             0.120492                  -0.043456   \n",
                            "1055     1          0.008760             0.050630                   0.117510   \n",
                            "705      1          0.059732            -0.403059                  -0.065851   \n",
                            "\n",
                            "      Avg. Area Number of Bedrooms  Area Population  \n",
                            "1501                     -0.161885         0.110012  \n",
                            "2586                     -0.188552         0.104800  \n",
                            "2653                     -0.437441        -0.100503  \n",
                            "1055                      0.067004        -0.169171  \n",
                            "705                      -0.332996         0.207932  "
                        ],
                        "text/html": [
                            "<div>\n",
                            "<style scoped>\n",
                            "    .dataframe tbody tr th:only-of-type {\n",
                            "        vertical-align: middle;\n",
                            "    }\n",
                            "\n",
                            "    .dataframe tbody tr th {\n",
                            "        vertical-align: top;\n",
                            "    }\n",
                            "\n",
                            "    .dataframe thead th {\n",
                            "        text-align: right;\n",
                            "    }\n",
                            "</style>\n",
                            "<table border=\"1\" class=\"dataframe\">\n",
                            "  <thead>\n",
                            "    <tr style=\"text-align: right;\">\n",
                            "      <th></th>\n",
                            "      <th>bias</th>\n",
                            "      <th>Avg. Area Income</th>\n",
                            "      <th>Avg. Area House Age</th>\n",
                            "      <th>Avg. Area Number of Rooms</th>\n",
                            "      <th>Avg. Area Number of Bedrooms</th>\n",
                            "      <th>Area Population</th>\n",
                            "    </tr>\n",
                            "  </thead>\n",
                            "  <tbody>\n",
                            "    <tr>\n",
                            "      <th>1501</th>\n",
                            "      <td>1</td>\n",
                            "      <td>-0.094013</td>\n",
                            "      <td>0.163352</td>\n",
                            "      <td>-0.073005</td>\n",
                            "      <td>-0.161885</td>\n",
                            "      <td>0.110012</td>\n",
                            "    </tr>\n",
                            "    <tr>\n",
                            "      <th>2586</th>\n",
                            "      <td>1</td>\n",
                            "      <td>-0.159864</td>\n",
                            "      <td>0.143778</td>\n",
                            "      <td>-0.009034</td>\n",
                            "      <td>-0.188552</td>\n",
                            "      <td>0.104800</td>\n",
                            "    </tr>\n",
                            "    <tr>\n",
                            "      <th>2653</th>\n",
                            "      <td>1</td>\n",
                            "      <td>0.020884</td>\n",
                            "      <td>0.120492</td>\n",
                            "      <td>-0.043456</td>\n",
                            "      <td>-0.437441</td>\n",
                            "      <td>-0.100503</td>\n",
                            "    </tr>\n",
                            "    <tr>\n",
                            "      <th>1055</th>\n",
                            "      <td>1</td>\n",
                            "      <td>0.008760</td>\n",
                            "      <td>0.050630</td>\n",
                            "      <td>0.117510</td>\n",
                            "      <td>0.067004</td>\n",
                            "      <td>-0.169171</td>\n",
                            "    </tr>\n",
                            "    <tr>\n",
                            "      <th>705</th>\n",
                            "      <td>1</td>\n",
                            "      <td>0.059732</td>\n",
                            "      <td>-0.403059</td>\n",
                            "      <td>-0.065851</td>\n",
                            "      <td>-0.332996</td>\n",
                            "      <td>0.207932</td>\n",
                            "    </tr>\n",
                            "  </tbody>\n",
                            "</table>\n",
                            "</div>"
                        ]
                    },
                    "metadata": {},
                    "execution_count": 424
                }
            ],
            "metadata": {}
        },
        {
            "cell_type": "code",
            "execution_count": 425,
            "source": [
                "theta=normality(X_train,y_train)"
            ],
            "outputs": [],
            "metadata": {}
        },
        {
            "cell_type": "code",
            "execution_count": 426,
            "source": [
                "pre=np.dot(X_validation,theta)"
            ],
            "outputs": [],
            "metadata": {}
        },
        {
            "cell_type": "code",
            "execution_count": 427,
            "source": [
                "pre=pd.DataFrame(pre)"
            ],
            "outputs": [],
            "metadata": {}
        },
        {
            "cell_type": "code",
            "execution_count": 428,
            "source": [
                "theta"
            ],
            "outputs": [
                {
                    "output_type": "execute_result",
                    "data": {
                        "text/plain": [
                            "array([[1.23514352e+06],\n",
                            "       [1.16004365e+08],\n",
                            "       [8.54049926e+07],\n",
                            "       [5.66172286e+07],\n",
                            "       [5.74305640e+07],\n",
                            "       [6.98241610e+07]])"
                        ]
                    },
                    "metadata": {},
                    "execution_count": 428
                }
            ],
            "metadata": {}
        },
        {
            "cell_type": "code",
            "execution_count": 429,
            "source": [
                "correct = [1 if abs(a-b)<500000 else 0 for (a, b) in zip(pre.iloc[:,0], y_validation.iloc[:,0])]\r\n",
                "accuracy = (sum(map(int, correct)) / float(len(correct)))\r\n",
                "print ('accuracy = {0}%'.format(accuracy * 100))"
            ],
            "outputs": [
                {
                    "output_type": "stream",
                    "name": "stdout",
                    "text": [
                        "accuracy = 1.2%\n"
                    ]
                }
            ],
            "metadata": {}
        },
        {
            "cell_type": "code",
            "execution_count": 430,
            "source": [
                "# koi farak nahi pada, so let's try to use square root of features, to lower theta(weight matrix)"
            ],
            "outputs": [],
            "metadata": {}
        },
        {
            "cell_type": "code",
            "execution_count": 431,
            "source": [
                "X_train=np.sqrt(abs(X_train))\r\n",
                "X_validation=np.sqrt(abs(X_validation))\r\n",
                "X_test=np.sqrt(abs(X_validation))"
            ],
            "outputs": [],
            "metadata": {}
        },
        {
            "cell_type": "code",
            "execution_count": 432,
            "source": [
                "X_train.head()"
            ],
            "outputs": [
                {
                    "output_type": "execute_result",
                    "data": {
                        "text/plain": [
                            "      bias  Avg. Area Income  Avg. Area House Age  Avg. Area Number of Rooms  \\\n",
                            "1501   1.0          0.306615             0.404168                   0.270194   \n",
                            "2586   1.0          0.399830             0.379181                   0.095049   \n",
                            "2653   1.0          0.144511             0.347120                   0.208460   \n",
                            "1055   1.0          0.093596             0.225011                   0.342798   \n",
                            "705    1.0          0.244401             0.634869                   0.256614   \n",
                            "\n",
                            "      Avg. Area Number of Bedrooms  Area Population  \n",
                            "1501                      0.402349         0.331680  \n",
                            "2586                      0.434225         0.323728  \n",
                            "2653                      0.661393         0.317022  \n",
                            "1055                      0.258851         0.411305  \n",
                            "705                       0.577058         0.455995  "
                        ],
                        "text/html": [
                            "<div>\n",
                            "<style scoped>\n",
                            "    .dataframe tbody tr th:only-of-type {\n",
                            "        vertical-align: middle;\n",
                            "    }\n",
                            "\n",
                            "    .dataframe tbody tr th {\n",
                            "        vertical-align: top;\n",
                            "    }\n",
                            "\n",
                            "    .dataframe thead th {\n",
                            "        text-align: right;\n",
                            "    }\n",
                            "</style>\n",
                            "<table border=\"1\" class=\"dataframe\">\n",
                            "  <thead>\n",
                            "    <tr style=\"text-align: right;\">\n",
                            "      <th></th>\n",
                            "      <th>bias</th>\n",
                            "      <th>Avg. Area Income</th>\n",
                            "      <th>Avg. Area House Age</th>\n",
                            "      <th>Avg. Area Number of Rooms</th>\n",
                            "      <th>Avg. Area Number of Bedrooms</th>\n",
                            "      <th>Area Population</th>\n",
                            "    </tr>\n",
                            "  </thead>\n",
                            "  <tbody>\n",
                            "    <tr>\n",
                            "      <th>1501</th>\n",
                            "      <td>1.0</td>\n",
                            "      <td>0.306615</td>\n",
                            "      <td>0.404168</td>\n",
                            "      <td>0.270194</td>\n",
                            "      <td>0.402349</td>\n",
                            "      <td>0.331680</td>\n",
                            "    </tr>\n",
                            "    <tr>\n",
                            "      <th>2586</th>\n",
                            "      <td>1.0</td>\n",
                            "      <td>0.399830</td>\n",
                            "      <td>0.379181</td>\n",
                            "      <td>0.095049</td>\n",
                            "      <td>0.434225</td>\n",
                            "      <td>0.323728</td>\n",
                            "    </tr>\n",
                            "    <tr>\n",
                            "      <th>2653</th>\n",
                            "      <td>1.0</td>\n",
                            "      <td>0.144511</td>\n",
                            "      <td>0.347120</td>\n",
                            "      <td>0.208460</td>\n",
                            "      <td>0.661393</td>\n",
                            "      <td>0.317022</td>\n",
                            "    </tr>\n",
                            "    <tr>\n",
                            "      <th>1055</th>\n",
                            "      <td>1.0</td>\n",
                            "      <td>0.093596</td>\n",
                            "      <td>0.225011</td>\n",
                            "      <td>0.342798</td>\n",
                            "      <td>0.258851</td>\n",
                            "      <td>0.411305</td>\n",
                            "    </tr>\n",
                            "    <tr>\n",
                            "      <th>705</th>\n",
                            "      <td>1.0</td>\n",
                            "      <td>0.244401</td>\n",
                            "      <td>0.634869</td>\n",
                            "      <td>0.256614</td>\n",
                            "      <td>0.577058</td>\n",
                            "      <td>0.455995</td>\n",
                            "    </tr>\n",
                            "  </tbody>\n",
                            "</table>\n",
                            "</div>"
                        ]
                    },
                    "metadata": {},
                    "execution_count": 432
                }
            ],
            "metadata": {}
        },
        {
            "cell_type": "code",
            "execution_count": 433,
            "source": [
                "theta=normality(X_train,y_train)"
            ],
            "outputs": [],
            "metadata": {}
        },
        {
            "cell_type": "code",
            "execution_count": 434,
            "source": [
                "theta=theta**1/2048"
            ],
            "outputs": [],
            "metadata": {}
        },
        {
            "cell_type": "code",
            "execution_count": 435,
            "source": [
                "pre=np.dot(X_validation,theta)"
            ],
            "outputs": [],
            "metadata": {}
        },
        {
            "cell_type": "code",
            "execution_count": 436,
            "source": [
                "pre=pd.DataFrame(pre)"
            ],
            "outputs": [],
            "metadata": {}
        },
        {
            "cell_type": "code",
            "execution_count": 437,
            "source": [
                "theta"
            ],
            "outputs": [
                {
                    "output_type": "execute_result",
                    "data": {
                        "text/plain": [
                            "array([[5.91072940e+02],\n",
                            "       [6.66470082e+05],\n",
                            "       [6.86455061e+05],\n",
                            "       [6.34718129e+05],\n",
                            "       [9.38762258e+05],\n",
                            "       [6.57296702e+05]])"
                        ]
                    },
                    "metadata": {},
                    "execution_count": 437
                }
            ],
            "metadata": {}
        },
        {
            "cell_type": "code",
            "execution_count": 438,
            "source": [
                "correct = [1 if abs(a-b)<500000 else 0 for (a, b) in zip(pre.iloc[:,0], y_validation.iloc[:,0])]\r\n",
                "accuracy = (sum(map(int, correct)) / float(len(correct)))\r\n",
                "print ('accuracy = {0}%'.format(accuracy * 100))"
            ],
            "outputs": [
                {
                    "output_type": "stream",
                    "name": "stdout",
                    "text": [
                        "accuracy = 76.8%\n"
                    ]
                }
            ],
            "metadata": {}
        },
        {
            "cell_type": "code",
            "execution_count": 439,
            "source": [
                "# so now, it is giving slightly good answer, but we have to scale down too much"
            ],
            "outputs": [],
            "metadata": {}
        },
        {
            "cell_type": "code",
            "execution_count": 440,
            "source": [
                "prediction=np.dot(X_test,theta)"
            ],
            "outputs": [],
            "metadata": {}
        },
        {
            "cell_type": "code",
            "execution_count": 441,
            "source": [
                "prediction=pd.DataFrame(prediction)"
            ],
            "outputs": [],
            "metadata": {}
        },
        {
            "cell_type": "code",
            "execution_count": 442,
            "source": [
                "correct = [1 if abs(a-b)<500000 else 0 for (a, b) in zip(pre.iloc[:,0], y_validation.iloc[:,0])]\r\n",
                "accuracy = (sum(map(int, correct)) / float(len(correct)))\r\n",
                "print ('accuracy = {0}%'.format(accuracy * 100))"
            ],
            "outputs": [
                {
                    "output_type": "stream",
                    "name": "stdout",
                    "text": [
                        "accuracy = 76.8%\n"
                    ]
                }
            ],
            "metadata": {}
        },
        {
            "cell_type": "code",
            "execution_count": null,
            "source": [
                "#test set accuracy"
            ],
            "outputs": [],
            "metadata": {}
        }
    ],
    "metadata": {
        "orig_nbformat": 4,
        "language_info": {
            "name": "python",
            "version": "3.9.5",
            "mimetype": "text/x-python",
            "codemirror_mode": {
                "name": "ipython",
                "version": 3
            },
            "pygments_lexer": "ipython3",
            "nbconvert_exporter": "python",
            "file_extension": ".py"
        },
        "kernelspec": {
            "name": "python3",
            "display_name": "Python 3.9.5 64-bit"
        },
        "interpreter": {
            "hash": "33dc6d49505b4536b6a128d9d7c879e1fa44477ad44947bbbe73093067fe6393"
        }
    },
    "nbformat": 4,
    "nbformat_minor": 2
}